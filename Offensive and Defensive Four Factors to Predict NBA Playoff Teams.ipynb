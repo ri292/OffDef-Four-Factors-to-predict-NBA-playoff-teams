{
 "cells": [
  {
   "cell_type": "markdown",
   "metadata": {},
   "source": [
    "# Offensive and Defensive Four Factors to Predict NBA Playoff Teams\n",
    "\n",
    "Extending my previous analysis using the offensive four factors introduced by Dean Oliver, I will use both offensive and defensive four factors to determine the best predictors for whether an NBA team will make the playoffs. This analysis will be conducted in a similar manner, using logistic regression to determine which factors can be removed to create a strong but parsimonious model based on the 2018-2019 NBA season. I will then use those factors on the 2017-2018 NBA season to determine whether the model can predict playoff teams well out-of-sample.\n",
    "\n",
    "Unlike the previous analysis that was only done in Minitab, I will be conducting this analysis in Python."
   ]
  },
  {
   "cell_type": "code",
   "execution_count": null,
   "metadata": {},
   "outputs": [],
   "source": []
  }
 ],
 "metadata": {
  "kernelspec": {
   "display_name": "Python 3",
   "language": "python",
   "name": "python3"
  },
  "language_info": {
   "codemirror_mode": {
    "name": "ipython",
    "version": 3
   },
   "file_extension": ".py",
   "mimetype": "text/x-python",
   "name": "python",
   "nbconvert_exporter": "python",
   "pygments_lexer": "ipython3",
   "version": "3.7.4"
  }
 },
 "nbformat": 4,
 "nbformat_minor": 2
}
